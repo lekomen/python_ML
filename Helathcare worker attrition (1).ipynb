{
 "cells": [
  {
   "cell_type": "markdown",
   "id": "befa3fba",
   "metadata": {},
   "source": [
    "# Importing data"
   ]
  },
  {
   "cell_type": "code",
   "execution_count": 14,
   "id": "a93c359b",
   "metadata": {},
   "outputs": [],
   "source": [
    "import pandas as pd\n",
    "import matplotlib.pyplot as plt\n",
    "import seaborn as sns\n",
    "import numpy as np\n",
    "df = pd.read_csv(r\"C:\\Users\\user\\OneDrive\\Desktop\\watson_healthcare_modified.csv\")\n",
    "train = pd.read_csv(r\"C:\\Users\\user\\OneDrive\\Desktop\\watson_healthcare_modified.csv\")\n",
    "test = pd.read_csv(r\"C:\\Users\\user\\OneDrive\\Desktop\\watson_shap_values_for_testset.csv\")"
   ]
  },
  {
   "cell_type": "code",
   "execution_count": 15,
   "id": "68d3af17",
   "metadata": {
    "scrolled": false
   },
   "outputs": [
    {
     "data": {
      "text/html": [
       "<div>\n",
       "<style scoped>\n",
       "    .dataframe tbody tr th:only-of-type {\n",
       "        vertical-align: middle;\n",
       "    }\n",
       "\n",
       "    .dataframe tbody tr th {\n",
       "        vertical-align: top;\n",
       "    }\n",
       "\n",
       "    .dataframe thead th {\n",
       "        text-align: right;\n",
       "    }\n",
       "</style>\n",
       "<table border=\"1\" class=\"dataframe\">\n",
       "  <thead>\n",
       "    <tr style=\"text-align: right;\">\n",
       "      <th></th>\n",
       "      <th>EmployeeID</th>\n",
       "      <th>Age</th>\n",
       "      <th>Attrition</th>\n",
       "      <th>BusinessTravel</th>\n",
       "      <th>DailyRate</th>\n",
       "      <th>Department</th>\n",
       "      <th>DistanceFromHome</th>\n",
       "      <th>Education</th>\n",
       "      <th>EducationField</th>\n",
       "      <th>EmployeeCount</th>\n",
       "      <th>EnvironmentSatisfaction</th>\n",
       "      <th>Gender</th>\n",
       "      <th>HourlyRate</th>\n",
       "      <th>JobInvolvement</th>\n",
       "      <th>JobLevel</th>\n",
       "      <th>JobRole</th>\n",
       "      <th>JobSatisfaction</th>\n",
       "      <th>MaritalStatus</th>\n",
       "      <th>MonthlyIncome</th>\n",
       "      <th>MonthlyRate</th>\n",
       "      <th>NumCompaniesWorked</th>\n",
       "      <th>Over18</th>\n",
       "      <th>OverTime</th>\n",
       "      <th>PercentSalaryHike</th>\n",
       "      <th>PerformanceRating</th>\n",
       "      <th>RelationshipSatisfaction</th>\n",
       "      <th>StandardHours</th>\n",
       "      <th>Shift</th>\n",
       "      <th>TotalWorkingYears</th>\n",
       "      <th>TrainingTimesLastYear</th>\n",
       "      <th>WorkLifeBalance</th>\n",
       "      <th>YearsAtCompany</th>\n",
       "      <th>YearsInCurrentRole</th>\n",
       "      <th>YearsSinceLastPromotion</th>\n",
       "      <th>YearsWithCurrManager</th>\n",
       "    </tr>\n",
       "  </thead>\n",
       "  <tbody>\n",
       "    <tr>\n",
       "      <th>0</th>\n",
       "      <td>1313919</td>\n",
       "      <td>41</td>\n",
       "      <td>No</td>\n",
       "      <td>Travel_Rarely</td>\n",
       "      <td>1102</td>\n",
       "      <td>Cardiology</td>\n",
       "      <td>1</td>\n",
       "      <td>2</td>\n",
       "      <td>Life Sciences</td>\n",
       "      <td>1</td>\n",
       "      <td>2</td>\n",
       "      <td>Female</td>\n",
       "      <td>94</td>\n",
       "      <td>3</td>\n",
       "      <td>2</td>\n",
       "      <td>Nurse</td>\n",
       "      <td>4</td>\n",
       "      <td>Single</td>\n",
       "      <td>5993</td>\n",
       "      <td>19479</td>\n",
       "      <td>8</td>\n",
       "      <td>Y</td>\n",
       "      <td>Yes</td>\n",
       "      <td>11</td>\n",
       "      <td>3</td>\n",
       "      <td>1</td>\n",
       "      <td>80</td>\n",
       "      <td>0</td>\n",
       "      <td>8</td>\n",
       "      <td>0</td>\n",
       "      <td>1</td>\n",
       "      <td>6</td>\n",
       "      <td>4</td>\n",
       "      <td>0</td>\n",
       "      <td>5</td>\n",
       "    </tr>\n",
       "    <tr>\n",
       "      <th>1</th>\n",
       "      <td>1200302</td>\n",
       "      <td>49</td>\n",
       "      <td>No</td>\n",
       "      <td>Travel_Frequently</td>\n",
       "      <td>279</td>\n",
       "      <td>Maternity</td>\n",
       "      <td>8</td>\n",
       "      <td>1</td>\n",
       "      <td>Life Sciences</td>\n",
       "      <td>1</td>\n",
       "      <td>3</td>\n",
       "      <td>Male</td>\n",
       "      <td>61</td>\n",
       "      <td>2</td>\n",
       "      <td>2</td>\n",
       "      <td>Other</td>\n",
       "      <td>2</td>\n",
       "      <td>Married</td>\n",
       "      <td>5130</td>\n",
       "      <td>24907</td>\n",
       "      <td>1</td>\n",
       "      <td>Y</td>\n",
       "      <td>No</td>\n",
       "      <td>23</td>\n",
       "      <td>4</td>\n",
       "      <td>4</td>\n",
       "      <td>80</td>\n",
       "      <td>1</td>\n",
       "      <td>10</td>\n",
       "      <td>3</td>\n",
       "      <td>3</td>\n",
       "      <td>10</td>\n",
       "      <td>7</td>\n",
       "      <td>1</td>\n",
       "      <td>7</td>\n",
       "    </tr>\n",
       "    <tr>\n",
       "      <th>2</th>\n",
       "      <td>1060315</td>\n",
       "      <td>37</td>\n",
       "      <td>Yes</td>\n",
       "      <td>Travel_Rarely</td>\n",
       "      <td>1373</td>\n",
       "      <td>Maternity</td>\n",
       "      <td>2</td>\n",
       "      <td>2</td>\n",
       "      <td>Other</td>\n",
       "      <td>1</td>\n",
       "      <td>4</td>\n",
       "      <td>Male</td>\n",
       "      <td>92</td>\n",
       "      <td>2</td>\n",
       "      <td>1</td>\n",
       "      <td>Nurse</td>\n",
       "      <td>3</td>\n",
       "      <td>Single</td>\n",
       "      <td>2090</td>\n",
       "      <td>2396</td>\n",
       "      <td>6</td>\n",
       "      <td>Y</td>\n",
       "      <td>Yes</td>\n",
       "      <td>15</td>\n",
       "      <td>3</td>\n",
       "      <td>2</td>\n",
       "      <td>80</td>\n",
       "      <td>0</td>\n",
       "      <td>7</td>\n",
       "      <td>3</td>\n",
       "      <td>3</td>\n",
       "      <td>0</td>\n",
       "      <td>0</td>\n",
       "      <td>0</td>\n",
       "      <td>0</td>\n",
       "    </tr>\n",
       "    <tr>\n",
       "      <th>3</th>\n",
       "      <td>1272912</td>\n",
       "      <td>33</td>\n",
       "      <td>No</td>\n",
       "      <td>Travel_Frequently</td>\n",
       "      <td>1392</td>\n",
       "      <td>Maternity</td>\n",
       "      <td>3</td>\n",
       "      <td>4</td>\n",
       "      <td>Life Sciences</td>\n",
       "      <td>1</td>\n",
       "      <td>4</td>\n",
       "      <td>Female</td>\n",
       "      <td>56</td>\n",
       "      <td>3</td>\n",
       "      <td>1</td>\n",
       "      <td>Other</td>\n",
       "      <td>3</td>\n",
       "      <td>Married</td>\n",
       "      <td>2909</td>\n",
       "      <td>23159</td>\n",
       "      <td>1</td>\n",
       "      <td>Y</td>\n",
       "      <td>Yes</td>\n",
       "      <td>11</td>\n",
       "      <td>3</td>\n",
       "      <td>3</td>\n",
       "      <td>80</td>\n",
       "      <td>0</td>\n",
       "      <td>8</td>\n",
       "      <td>3</td>\n",
       "      <td>3</td>\n",
       "      <td>8</td>\n",
       "      <td>7</td>\n",
       "      <td>3</td>\n",
       "      <td>0</td>\n",
       "    </tr>\n",
       "    <tr>\n",
       "      <th>4</th>\n",
       "      <td>1414939</td>\n",
       "      <td>27</td>\n",
       "      <td>No</td>\n",
       "      <td>Travel_Rarely</td>\n",
       "      <td>591</td>\n",
       "      <td>Maternity</td>\n",
       "      <td>2</td>\n",
       "      <td>1</td>\n",
       "      <td>Medical</td>\n",
       "      <td>1</td>\n",
       "      <td>1</td>\n",
       "      <td>Male</td>\n",
       "      <td>40</td>\n",
       "      <td>3</td>\n",
       "      <td>1</td>\n",
       "      <td>Nurse</td>\n",
       "      <td>2</td>\n",
       "      <td>Married</td>\n",
       "      <td>3468</td>\n",
       "      <td>16632</td>\n",
       "      <td>9</td>\n",
       "      <td>Y</td>\n",
       "      <td>No</td>\n",
       "      <td>12</td>\n",
       "      <td>3</td>\n",
       "      <td>4</td>\n",
       "      <td>80</td>\n",
       "      <td>1</td>\n",
       "      <td>6</td>\n",
       "      <td>3</td>\n",
       "      <td>3</td>\n",
       "      <td>2</td>\n",
       "      <td>2</td>\n",
       "      <td>2</td>\n",
       "      <td>2</td>\n",
       "    </tr>\n",
       "  </tbody>\n",
       "</table>\n",
       "</div>"
      ],
      "text/plain": [
       "   EmployeeID  Age Attrition     BusinessTravel  DailyRate  Department  \\\n",
       "0     1313919   41        No      Travel_Rarely       1102  Cardiology   \n",
       "1     1200302   49        No  Travel_Frequently        279   Maternity   \n",
       "2     1060315   37       Yes      Travel_Rarely       1373   Maternity   \n",
       "3     1272912   33        No  Travel_Frequently       1392   Maternity   \n",
       "4     1414939   27        No      Travel_Rarely        591   Maternity   \n",
       "\n",
       "   DistanceFromHome  Education EducationField  EmployeeCount  \\\n",
       "0                 1          2  Life Sciences              1   \n",
       "1                 8          1  Life Sciences              1   \n",
       "2                 2          2          Other              1   \n",
       "3                 3          4  Life Sciences              1   \n",
       "4                 2          1        Medical              1   \n",
       "\n",
       "   EnvironmentSatisfaction  Gender  HourlyRate  JobInvolvement  JobLevel  \\\n",
       "0                        2  Female          94               3         2   \n",
       "1                        3    Male          61               2         2   \n",
       "2                        4    Male          92               2         1   \n",
       "3                        4  Female          56               3         1   \n",
       "4                        1    Male          40               3         1   \n",
       "\n",
       "  JobRole  JobSatisfaction MaritalStatus  MonthlyIncome  MonthlyRate  \\\n",
       "0   Nurse                4        Single           5993        19479   \n",
       "1   Other                2       Married           5130        24907   \n",
       "2   Nurse                3        Single           2090         2396   \n",
       "3   Other                3       Married           2909        23159   \n",
       "4   Nurse                2       Married           3468        16632   \n",
       "\n",
       "   NumCompaniesWorked Over18 OverTime  PercentSalaryHike  PerformanceRating  \\\n",
       "0                   8      Y      Yes                 11                  3   \n",
       "1                   1      Y       No                 23                  4   \n",
       "2                   6      Y      Yes                 15                  3   \n",
       "3                   1      Y      Yes                 11                  3   \n",
       "4                   9      Y       No                 12                  3   \n",
       "\n",
       "   RelationshipSatisfaction  StandardHours  Shift  TotalWorkingYears  \\\n",
       "0                         1             80      0                  8   \n",
       "1                         4             80      1                 10   \n",
       "2                         2             80      0                  7   \n",
       "3                         3             80      0                  8   \n",
       "4                         4             80      1                  6   \n",
       "\n",
       "   TrainingTimesLastYear  WorkLifeBalance  YearsAtCompany  YearsInCurrentRole  \\\n",
       "0                      0                1               6                   4   \n",
       "1                      3                3              10                   7   \n",
       "2                      3                3               0                   0   \n",
       "3                      3                3               8                   7   \n",
       "4                      3                3               2                   2   \n",
       "\n",
       "   YearsSinceLastPromotion  YearsWithCurrManager  \n",
       "0                        0                     5  \n",
       "1                        1                     7  \n",
       "2                        0                     0  \n",
       "3                        3                     0  \n",
       "4                        2                     2  "
      ]
     },
     "execution_count": 15,
     "metadata": {},
     "output_type": "execute_result"
    }
   ],
   "source": [
    "pd.options.display.max_columns = None\n",
    "df.head()"
   ]
  },
  {
   "cell_type": "code",
   "execution_count": 61,
   "id": "d6bf019d",
   "metadata": {},
   "outputs": [
    {
     "data": {
      "text/plain": [
       "Gender  Attrition\n",
       "Female  No           592\n",
       "        Yes           86\n",
       "Male    No           885\n",
       "        Yes          113\n",
       "Name: Attrition, dtype: int64"
      ]
     },
     "execution_count": 61,
     "metadata": {},
     "output_type": "execute_result"
    }
   ],
   "source": [
    "df.groupby('Gender')['Attrition'].value_counts()"
   ]
  },
  {
   "cell_type": "markdown",
   "id": "86e037f7",
   "metadata": {},
   "source": [
    "# Plotting the data and seeing correlation"
   ]
  },
  {
   "cell_type": "code",
   "execution_count": 16,
   "id": "5d5c774c",
   "metadata": {},
   "outputs": [
    {
     "data": {
      "image/png": "[encoded data removed]",
      "text/plain": [
       "<Figure size 1440x720 with 6 Axes>"
      ]
     },
     "metadata": {
      "needs_background": "light"
     },
     "output_type": "display_data"
    }
   ],
   "source": [
    "fig,ax = plt.subplots(nrows = 2,ncols = 3,figsize=(20,10))\n",
    "sns.countplot(ax=ax[0,0],x = 'Attrition',data = df)\n",
    "sns.countplot(ax=ax[0,1],x = 'JobRole',data = df[df['JobRole']!='Other'],hue='Attrition')\n",
    "sns.countplot(ax=ax[0,2],x = 'JobSatisfaction',data = df,hue='Attrition')\n",
    "sns.countplot(ax=ax[1,0],x = 'Gender',data = df,hue = 'Attrition');\n",
    "sns.lineplot(ax=ax[1,1],x = 'Age',y='MonthlyIncome',data = df[df['JobRole']!='Other'],hue = 'Department');\n",
    "sns.countplot(ax=ax[1,2],x = 'Department',data = df,hue='Attrition')\n",
    "\n",
    "ax[0,0].title.set_text('Attrition Count')\n",
    "ax[0,1].title.set_text('Attrition based on job title')\n",
    "ax[0,2].title.set_text('Attrition based on job satisfaction')\n",
    "ax[1,0].title.set_text('Atrition based on gender')\n",
    "ax[1,1].title.set_text('Relationship between income,department and age')\n",
    "ax[1,2].title.set_text('Attrition based on department')\n",
    "\n",
    "plt.show()"
   ]
  },
  {
   "cell_type": "code",
   "execution_count": 17,
   "id": "03cec788",
   "metadata": {
    "scrolled": false
   },
   "outputs": [
    {
     "data": {
      "image/png": "[encoded data removed]",
      "text/plain": [
       "<Figure size 1440x720 with 1 Axes>"
      ]
     },
     "metadata": {
      "needs_background": "light"
     },
     "output_type": "display_data"
    }
   ],
   "source": [
    "fig, ax = plt.subplots(figsize=(20,10));\n",
    "ax.axhline(y=df['Age'].min(), color='red',linewidth=5);\n",
    "sns.histplot(x='Age',data = df[df['Attrition']=='Yes'],linewidth=2)\n",
    "plt.title('Average age of attrition')\n",
    "plt.show()"
   ]
  },
  {
   "cell_type": "markdown",
   "id": "00ea1cde",
   "metadata": {},
   "source": [
    "# Transforming and preparing the data for machine learning"
   ]
  },
  {
   "cell_type": "code",
   "execution_count": 18,
   "id": "49ec6031",
   "metadata": {},
   "outputs": [],
   "source": [
    "test.drop(columns = ['EmployeeID'],inplace = True)"
   ]
  },
  {
   "cell_type": "code",
   "execution_count": 19,
   "id": "777f3b6a",
   "metadata": {
    "scrolled": true
   },
   "outputs": [],
   "source": [
    "train.drop(columns = ['EmployeeID','Over18'],inplace = True)"
   ]
  },
  {
   "cell_type": "code",
   "execution_count": 20,
   "id": "ceda8b76",
   "metadata": {},
   "outputs": [],
   "source": [
    "train = train[train['JobRole']!='Other']\n",
    "train = train[train['EducationField']!='Other']"
   ]
  },
  {
   "cell_type": "code",
   "execution_count": 21,
   "id": "280fa2c7",
   "metadata": {},
   "outputs": [
    {
     "data": {
      "text/plain": [
       "array(['Life Sciences', 'Medical', 'Marketing', 'Technical Degree',\n",
       "       'Human Resources'], dtype=object)"
      ]
     },
     "execution_count": 21,
     "metadata": {},
     "output_type": "execute_result"
    }
   ],
   "source": [
    "train['EducationField'].unique()"
   ]
  },
  {
   "cell_type": "code",
   "execution_count": 22,
   "id": "a13a99f7",
   "metadata": {},
   "outputs": [],
   "source": [
    "train['Attrition'].replace({'No':0,'Yes':1},inplace = True)\n",
    "train['BusinessTravel'].replace({'Non-Travel':0,'Travel_Rarely':1,'Travel_Frequently':2},inplace = True)\n",
    "train['Department'].replace({'Cardiology':0,'Maternity':1,'Neurology':2},inplace = True)\n",
    "train['Gender'].replace({'Female':0,'Male':1},inplace = True)\n",
    "train['MaritalStatus'].replace({'Single':0,'Married':1,'Divorced':2},inplace = True)\n",
    "train['OverTime'].replace({'No':0,'Yes':1},inplace = True)\n",
    "train['JobRole'].replace({'Nurse':0,'Therapist':1,'Administrative':2,'Admin':3},inplace = True)\n",
    "train['EducationField'].replace({'Life Sciences':0,'Medical':1,'Marketing':2,'Technical Degree':3,'Technical Degree':4,'Human Resources':5},inplace = True)"
   ]
  },
  {
   "cell_type": "code",
   "execution_count": 23,
   "id": "b26c540a",
   "metadata": {},
   "outputs": [
    {
     "data": {
      "text/plain": [
       "array([0, 1, 2, 4, 5], dtype=int64)"
      ]
     },
     "execution_count": 23,
     "metadata": {},
     "output_type": "execute_result"
    }
   ],
   "source": [
    "train['EducationField'].unique()"
   ]
  },
  {
   "cell_type": "code",
   "execution_count": 24,
   "id": "6b282edb",
   "metadata": {
    "scrolled": false
   },
   "outputs": [],
   "source": [
    "X = train.drop('Attrition',axis =1)\n",
    "y = train['Attrition']"
   ]
  },
  {
   "cell_type": "code",
   "execution_count": 25,
   "id": "68e779fb",
   "metadata": {},
   "outputs": [],
   "source": [
    "from sklearn.model_selection import train_test_split\n",
    "from sklearn.model_selection import cross_val_score,KFold\n",
    "from sklearn.neighbors import NearestNeighbors, KNeighborsClassifier\n",
    "from sklearn.metrics import classification_report, confusion_matrix\n",
    "from sklearn.linear_model import LogisticRegression\n",
    "from sklearn import metrics\n",
    "from sklearn.ensemble import RandomForestClassifier\n",
    "from sklearn.preprocessing import StandardScaler"
   ]
  },
  {
   "cell_type": "markdown",
   "id": "e32bcf88",
   "metadata": {},
   "source": [
    " # Scaling the values for better accuracy"
   ]
  },
  {
   "cell_type": "code",
   "execution_count": 26,
   "id": "641c6323",
   "metadata": {},
   "outputs": [],
   "source": [
    "X_train, X_test, y_train, y_test = train_test_split(X, y, test_size=0.3,random_state=42)\n",
    "scaler = StandardScaler()\n",
    "X_train_scaled = scaler.fit_transform(X_train)\n",
    "X_test_scaled = scaler.transform(X_test)"
   ]
  },
  {
   "cell_type": "markdown",
   "id": "11260805",
   "metadata": {},
   "source": [
    "# Random Forest"
   ]
  },
  {
   "cell_type": "code",
   "execution_count": 27,
   "id": "aca1ff17",
   "metadata": {},
   "outputs": [
    {
     "name": "stdout",
     "output_type": "stream",
     "text": [
      "[0.9294638694638696]\n"
     ]
    }
   ],
   "source": [
    "rf_results = []\n",
    "rf = RandomForestClassifier(n_estimators = 100,max_depth = 5)\n",
    "rf.fit(X_train_scaled,y_train)\n",
    "rf.predict(X_test_scaled)\n",
    "rf.score(X_test_scaled,y_test)\n",
    "\n",
    "rf_results.append(np.mean(cross_val_score(rf,X_test_scaled,y_test,cv=5)))\n",
    "print(rf_results)"
   ]
  },
  {
   "cell_type": "code",
   "execution_count": 28,
   "id": "ef901f0d",
   "metadata": {},
   "outputs": [
    {
     "data": {
      "image/png": "[encoded data removed]",
      "text/plain": [
       "<Figure size 432x288 with 2 Axes>"
      ]
     },
     "metadata": {
      "needs_background": "light"
     },
     "output_type": "display_data"
    }
   ],
   "source": [
    "model_rf = rf.predict(X_test_scaled)\n",
    "model_cms = confusion_matrix(y_test,model_rf)\n",
    "sns.heatmap(data = model_cms,annot = True,fmt ='.2f')\n",
    "plt.show()"
   ]
  },
  {
   "cell_type": "code",
   "execution_count": 29,
   "id": "9bdee069",
   "metadata": {
    "scrolled": true
   },
   "outputs": [
    {
     "data": {
      "image/png": "[encoded data removed]",
      "text/plain": [
       "<Figure size 720x360 with 1 Axes>"
      ]
     },
     "metadata": {
      "needs_background": "light"
     },
     "output_type": "display_data"
    }
   ],
   "source": [
    "feat_importances = pd.Series(rf.feature_importances_,index = X.columns)\n",
    "feat_importances.nlargest(5).plot(kind = 'barh',figsize=(10,5))\n",
    "plt.show()"
   ]
  },
  {
   "cell_type": "markdown",
   "id": "4f884a6f",
   "metadata": {},
   "source": [
    "# Logistic regression"
   ]
  },
  {
   "cell_type": "code",
   "execution_count": 30,
   "id": "bfb43111",
   "metadata": {},
   "outputs": [
    {
     "name": "stdout",
     "output_type": "stream",
     "text": [
      "[0.9294172494172495]\n"
     ]
    }
   ],
   "source": [
    "logreg = LogisticRegression()\n",
    "\n",
    "log_reg_results = []\n",
    "\n",
    "log= logreg.fit(X_train_scaled,y_train)\n",
    "log.predict(X_test_scaled)\n",
    "log.score(X_test_scaled,y_test)\n",
    "\n",
    "log_reg_results.append(np.mean(cross_val_score(log,X_test_scaled,y_test,cv=5)))\n",
    "print(log_reg_results)"
   ]
  },
  {
   "cell_type": "code",
   "execution_count": 31,
   "id": "877b54bb",
   "metadata": {
    "scrolled": false
   },
   "outputs": [
    {
     "data": {
      "image/png": "[encoded data removed]",
      "text/plain": [
       "<Figure size 432x288 with 2 Axes>"
      ]
     },
     "metadata": {
      "needs_background": "light"
     },
     "output_type": "display_data"
    }
   ],
   "source": [
    "model_log = logreg.predict(X_test_scaled)\n",
    "mode_cm_log = confusion_matrix(y_test,model_log)\n",
    "sns.heatmap(data = mode_cm_log,annot = True,fmt ='.2f')\n",
    "plt.show()"
   ]
  },
  {
   "cell_type": "markdown",
   "id": "a3899594",
   "metadata": {},
   "source": [
    "# Pytorch model"
   ]
  },
  {
   "cell_type": "code",
   "execution_count": 32,
   "id": "a383ef55",
   "metadata": {
    "scrolled": true
   },
   "outputs": [
    {
     "data": {
      "text/plain": [
       "<torch._C.Generator at 0x285d65c7230>"
      ]
     },
     "execution_count": 32,
     "metadata": {},
     "output_type": "execute_result"
    }
   ],
   "source": [
    "import torch\n",
    "import torch.nn as nn\n",
    "import torch.nn.functional as F\n",
    "torch.manual_seed(42)"
   ]
  },
  {
   "cell_type": "code",
   "execution_count": 52,
   "id": "020500a8",
   "metadata": {},
   "outputs": [],
   "source": [
    "X_train,X_test,y_train,y_test = train_test_split(X,y, test_size = 0.2,random_state = 41)"
   ]
  },
  {
   "cell_type": "code",
   "execution_count": 53,
   "id": "80045894",
   "metadata": {},
   "outputs": [],
   "source": [
    "X_train = torch.FloatTensor(X_train)\n",
    "X_test = torch.FloatTensor(X_test)\n",
    "y_train = torch.LongTensor(y_train)\n",
    "y_test = torch.LongTensor(y_test)"
   ]
  },
  {
   "cell_type": "code",
   "execution_count": 54,
   "id": "ab690a43",
   "metadata": {},
   "outputs": [],
   "source": [
    "class Model(nn.Module):\n",
    "    def __init__(self,input_feature = 32,h1 = 50,h2 = 55,out = 2):\n",
    "        super().__init__()\n",
    "        self.fc1 = nn.Linear(input_feature,h1)\n",
    "        self.fc2 = nn.Linear(h1,h2)\n",
    "        self.out = nn.Linear(h2,out)\n",
    "        \n",
    "    def forward(self,x):\n",
    "        x = F.relu(self.fc1(x))\n",
    "        x = F.relu(self.fc2(x))\n",
    "        x = self.out(x)\n",
    "        \n",
    "        return x"
   ]
  },
  {
   "cell_type": "code",
   "execution_count": 55,
   "id": "090d104d",
   "metadata": {},
   "outputs": [],
   "source": [
    "model = Model()\n",
    "criterion = nn.CrossEntropyLoss()\n",
    "optimizer = torch.optim.Adam(model.parameters(),lr = 0.01)"
   ]
  },
  {
   "cell_type": "code",
   "execution_count": 56,
   "id": "effb2d0d",
   "metadata": {
    "scrolled": true
   },
   "outputs": [
    {
     "name": "stdout",
     "output_type": "stream",
     "text": [
      "Epoch0 and loss: 5.48091983795166\n",
      "Epoch10 and loss: 95.8553466796875\n",
      "Epoch20 and loss: 19.718795776367188\n",
      "Epoch30 and loss: 18.91213035583496\n",
      "Epoch40 and loss: 3.753059148788452\n",
      "Epoch50 and loss: 1.25516676902771\n",
      "Epoch60 and loss: 0.6399351954460144\n",
      "Epoch70 and loss: 0.4726856052875519\n",
      "Epoch80 and loss: 0.38090842962265015\n",
      "Epoch90 and loss: 0.3297173082828522\n",
      "Epoch100 and loss: 0.30822890996932983\n",
      "Epoch110 and loss: 0.3012145757675171\n",
      "Epoch120 and loss: 0.294390469789505\n",
      "Epoch130 and loss: 0.29029911756515503\n",
      "Epoch140 and loss: 0.2868797779083252\n",
      "Epoch150 and loss: 0.2842802107334137\n",
      "Epoch160 and loss: 0.2822009325027466\n",
      "Epoch170 and loss: 0.280400812625885\n",
      "Epoch180 and loss: 0.278764933347702\n",
      "Epoch190 and loss: 0.27883845567703247\n",
      "Epoch200 and loss: 0.27568310499191284\n",
      "Epoch210 and loss: 0.2746182680130005\n",
      "Epoch220 and loss: 0.2764492332935333\n",
      "Epoch230 and loss: 0.2775426506996155\n",
      "Epoch240 and loss: 0.28076836466789246\n",
      "Epoch250 and loss: 0.27114054560661316\n",
      "Epoch260 and loss: 0.2681751549243927\n",
      "Epoch270 and loss: 0.26620522141456604\n",
      "Epoch280 and loss: 0.271091103553772\n",
      "Epoch290 and loss: 0.26720836758613586\n"
     ]
    }
   ],
   "source": [
    "epoch = 300\n",
    "losses = []\n",
    "\n",
    "for i in range(epoch):\n",
    "    y_preds = model.forward(X_train)\n",
    "    loss = criterion(y_preds,y_train)\n",
    "    \n",
    "    losses.append(loss.detach().numpy())\n",
    "    \n",
    "    if i %10 ==0:\n",
    "        print(f'Epoch{i} and loss: {loss}')\n",
    "    \n",
    "    optimizer.zero_grad()\n",
    "    loss.backward()\n",
    "    optimizer.step()\n",
    "                  "
   ]
  },
  {
   "cell_type": "markdown",
   "id": "0548891e",
   "metadata": {},
   "source": [
    "# Plotting the results"
   ]
  },
  {
   "cell_type": "code",
   "execution_count": 49,
   "id": "6c89961c",
   "metadata": {},
   "outputs": [
    {
     "data": {
      "image/png": "[encoded data removed]",
      "text/plain": [
       "<Figure size 432x288 with 1 Axes>"
      ]
     },
     "metadata": {
      "needs_background": "light"
     },
     "output_type": "display_data"
    }
   ],
   "source": [
    "plt.plot(losses)\n",
    "plt.show()"
   ]
  },
  {
   "cell_type": "code",
   "execution_count": 50,
   "id": "5c1f6476",
   "metadata": {},
   "outputs": [],
   "source": [
    "with torch.no_grad():\n",
    "    y_eval = model.forward(X_test)\n",
    "    loss = criterion(y_eval,y_test)"
   ]
  },
  {
   "cell_type": "code",
   "execution_count": 51,
   "id": "7e178041",
   "metadata": {},
   "outputs": [
    {
     "name": "stdout",
     "output_type": "stream",
     "text": [
      "1.) tensor([-0.2672, -4.0179]) \t 0\n",
      "2.) tensor([3.7830, 1.6956]) \t 0\n",
      "3.) tensor([4.0339, 1.8596]) \t 0\n",
      "4.) tensor([ 0.3548, -4.4128]) \t 0\n",
      "5.) tensor([-0.2874, -3.3258]) \t 0\n",
      "6.) tensor([-2.8584, -6.5219]) \t 0\n",
      "7.) tensor([3.4883, 1.5030]) \t 0\n",
      "8.) tensor([5.4376, 2.7769]) \t 0\n",
      "9.) tensor([4.7056, 2.2986]) \t 0\n",
      "10.) tensor([2.2872, 0.7180]) \t 0\n",
      "11.) tensor([1.7324, 0.3554]) \t 0\n",
      "12.) tensor([4.9487, 2.4575]) \t 0\n",
      "13.) tensor([2.7942, 1.0493]) \t 0\n",
      "14.) tensor([7.2105, 3.9357]) \t 0\n",
      "15.) tensor([5.5552, 2.8538]) \t 0\n",
      "16.) tensor([1.8752, 0.4487]) \t 1\n",
      "17.) tensor([-0.6419, -2.7401]) \t 0\n",
      "18.) tensor([2.9614, 1.1586]) \t 0\n",
      "19.) tensor([ 0.2084, -2.3410]) \t 0\n",
      "20.) tensor([-1.8437, -5.6819]) \t 0\n",
      "21.) tensor([3.0451, 1.2133]) \t 0\n",
      "22.) tensor([3.4311, 1.4656]) \t 0\n",
      "23.) tensor([5.6297, 2.9025]) \t 0\n",
      "24.) tensor([3.3502, 1.4127]) \t 0\n",
      "25.) tensor([-1.8632, -7.0438]) \t 0\n",
      "26.) tensor([4.1344, 1.9252]) \t 1\n",
      "27.) tensor([6.1438, 3.2385]) \t 0\n",
      "28.) tensor([ 1.4547, -1.1767]) \t 0\n",
      "29.) tensor([3.6917, 1.6359]) \t 0\n",
      "30.) tensor([2.3521, 0.4626]) \t 0\n",
      "31.) tensor([2.7667, 1.0313]) \t 0\n",
      "32.) tensor([2.4061, 0.7957]) \t 0\n",
      "33.) tensor([5.2786, 2.6731]) \t 0\n",
      "34.) tensor([4.1437, 1.9313]) \t 1\n",
      "35.) tensor([3.2908, 1.3739]) \t 0\n",
      "36.) tensor([3.3596, 1.4189]) \t 0\n",
      "37.) tensor([ 0.7053, -0.3159]) \t 1\n",
      "38.) tensor([4.1437, 1.9313]) \t 1\n",
      "39.) tensor([3.8002, 1.7068]) \t 0\n",
      "40.) tensor([-3.2588, -8.5942]) \t 0\n",
      "41.) tensor([-0.3102, -6.2471]) \t 0\n",
      "42.) tensor([-1.3862, -6.6915]) \t 0\n",
      "43.) tensor([6.9798, 3.7849]) \t 0\n",
      "44.) tensor([3.1004, 1.2495]) \t 0\n",
      "45.) tensor([3.6437, 1.6045]) \t 0\n",
      "46.) tensor([2.9362, 1.1421]) \t 0\n",
      "47.) tensor([2.3165, 0.7371]) \t 0\n",
      "48.) tensor([2.6695, 0.9679]) \t 0\n",
      "49.) tensor([3.6897, 1.6346]) \t 0\n",
      "50.) tensor([1.9467, 0.4954]) \t 0\n",
      "51.) tensor([2.7073, 0.9925]) \t 1\n",
      "52.) tensor([3.1757, 1.2987]) \t 0\n",
      "53.) tensor([3.5893, 1.5690]) \t 0\n",
      "54.) tensor([7.9671, 4.4302]) \t 0\n",
      "55.) tensor([-2.1106, -6.0666]) \t 0\n",
      "56.) tensor([3.1226, 1.2640]) \t 1\n",
      "57.) tensor([ 1.3779, -0.1520]) \t 0\n",
      "58.) tensor([4.2127, 1.9764]) \t 0\n",
      "59.) tensor([2.5021, 0.8584]) \t 0\n",
      "60.) tensor([2.9900, 1.1773]) \t 0\n",
      "61.) tensor([4.1963, 1.9657]) \t 0\n",
      "62.) tensor([2.1862, 0.6520]) \t 0\n",
      "63.) tensor([1.6587, 0.3072]) \t 1\n",
      "64.) tensor([1.9633, 0.5063]) \t 0\n",
      "65.) tensor([3.4052, 1.4486]) \t 0\n",
      "66.) tensor([ 0.8895, -0.1955]) \t 0\n",
      "67.) tensor([5.7396, 2.9744]) \t 0\n",
      "68.) tensor([4.2554, 2.0043]) \t 1\n",
      "69.) tensor([ 0.7964, -0.9316]) \t 0\n",
      "70.) tensor([2.5560, 0.8937]) \t 0\n",
      "71.) tensor([-0.9458, -4.8672]) \t 0\n",
      "72.) tensor([5.8779, 3.0647]) \t 0\n",
      "73.) tensor([5.4222, 2.7669]) \t 0\n",
      "74.) tensor([4.3931, 2.0943]) \t 0\n",
      "75.) tensor([5.1265, 2.5736]) \t 0\n",
      "76.) tensor([3.5140, 1.5198]) \t 0\n",
      "77.) tensor([-0.9598, -3.2205]) \t 0\n",
      "78.) tensor([6.6826, 3.5907]) \t 0\n",
      "79.) tensor([4.0499, 1.8700]) \t 0\n",
      "80.) tensor([2.1731, 0.6434]) \t 0\n",
      "81.) tensor([6.3415, 3.3678]) \t 0\n",
      "82.) tensor([  0.2441, -16.9125]) \t 0\n",
      "83.) tensor([3.3287, 1.3987]) \t 0\n",
      "84.) tensor([4.1178, 1.9144]) \t 0\n",
      "85.) tensor([3.6087, 1.5817]) \t 1\n",
      "86.) tensor([-0.8825, -3.7213]) \t 0\n",
      "87.) tensor([-0.8099, -3.9689]) \t 0\n",
      "88.) tensor([6.6839, 3.5915]) \t 0\n",
      "89.) tensor([-3.6623, -9.0994]) \t 0\n",
      "90.) tensor([5.4739, 2.8007]) \t 0\n",
      "91.) tensor([ 1.7217, -0.1744]) \t 0\n",
      "92.) tensor([6.0245, 3.1605]) \t 0\n",
      "93.) tensor([1.5892, 0.2618]) \t 0\n",
      "94.) tensor([3.4721, 1.4924]) \t 0\n",
      "95.) tensor([ -4.8842, -11.0924]) \t 0\n",
      "96.) tensor([1.9365, 0.4888]) \t 0\n",
      "97.) tensor([2.8201, 1.0663]) \t 1\n",
      "98.) tensor([3.0000, 1.1838]) \t 0\n",
      "99.) tensor([4.0168, 1.8484]) \t 0\n",
      "100.) tensor([2.3883, 0.7841]) \t 0\n",
      "101.) tensor([-2.5582, -6.7461]) \t 0\n",
      "102.) tensor([7.4680, 4.1040]) \t 0\n",
      "103.) tensor([2.2743, 0.7095]) \t 1\n",
      "104.) tensor([-1.1531, -3.9882]) \t 0\n",
      "105.) tensor([2.3933, 0.7873]) \t 0\n",
      "106.) tensor([3.2394, 1.3403]) \t 0\n",
      "107.) tensor([3.1703, 1.2951]) \t 0\n",
      "108.) tensor([3.1659, 1.2923]) \t 0\n",
      "109.) tensor([2.2088, 0.3490]) \t 0\n",
      "110.) tensor([2.1114, 0.6031]) \t 0\n",
      "111.) tensor([4.8292, 2.3793]) \t 1\n",
      "112.) tensor([2.9256, 1.1353]) \t 0\n",
      "113.) tensor([2.3672, 0.7703]) \t 0\n",
      "114.) tensor([ -2.0463, -13.5153]) \t 0\n",
      "115.) tensor([2.6053, 0.9259]) \t 0\n",
      "116.) tensor([2.5799, 0.9093]) \t 0\n",
      "117.) tensor([2.9946, 0.5389]) \t 0\n",
      "118.) tensor([2.9380, 1.1433]) \t 0\n",
      "119.) tensor([2.0290, 0.5492]) \t 1\n",
      "120.) tensor([4.5298, 2.1836]) \t 0\n",
      "121.) tensor([5.0714, 2.5377]) \t 0\n",
      "122.) tensor([4.2524, 2.0024]) \t 0\n",
      "123.) tensor([-1.3862, -6.6915]) \t 0\n",
      "124.) tensor([7.3453, 4.0238]) \t 0\n",
      "125.) tensor([1.3216, 0.0869]) \t 0\n",
      "126.) tensor([6.7900, 3.6609]) \t 0\n",
      "127.) tensor([2.7693, 1.0331]) \t 1\n",
      "128.) tensor([3.9193, 1.7847]) \t 0\n",
      "129.) tensor([5.1200, 2.5694]) \t 0\n",
      "130.) tensor([2.0584, 0.5684]) \t 0\n",
      "131.) tensor([6.2721, 3.3224]) \t 0\n",
      "132.) tensor([2.7877, 0.8865]) \t 0\n",
      "133.) tensor([3.4977, 1.5091]) \t 0\n",
      "134.) tensor([3.8505, 1.7397]) \t 0\n",
      "135.) tensor([ 0.4971, -1.3145]) \t 0\n",
      "136.) tensor([1.9622, 0.5056]) \t 0\n",
      "137.) tensor([4.6590, 2.2681]) \t 0\n",
      "138.) tensor([1.2154, 0.0175]) \t 0\n",
      "139.) tensor([4.3186, 2.0457]) \t 0\n",
      "140.) tensor([4.1292, 1.9219]) \t 0\n",
      "141.) tensor([5.8984, 3.0782]) \t 0\n",
      "142.) tensor([3.4699, 1.4910]) \t 0\n",
      "143.) tensor([4.9305, 2.4456]) \t 0\n",
      "144.) tensor([ 0.7526, -0.2849]) \t 1\n",
      "145.) tensor([3.4261, 1.4623]) \t 0\n",
      "146.) tensor([3.0802, 1.2363]) \t 0\n",
      "147.) tensor([2.6639, 0.9642]) \t 0\n",
      "148.) tensor([5.0540, 2.5263]) \t 0\n",
      "149.) tensor([3.3885, 1.4378]) \t 0\n",
      "150.) tensor([-3.7045, -9.2293]) \t 0\n",
      "151.) tensor([-2.2681, -5.3266]) \t 0\n",
      "152.) tensor([1.4423, 0.1658]) \t 1\n",
      "153.) tensor([3.7366, 1.6652]) \t 0\n",
      "154.) tensor([6.0909, 2.9195]) \t 0\n",
      "155.) tensor([ 1.5124, -0.1213]) \t 0\n",
      "156.) tensor([3.5853, 1.5664]) \t 0\n",
      "157.) tensor([-1.8650, -7.0468]) \t 0\n",
      "158.) tensor([2.5065, 0.8613]) \t 0\n",
      "159.) tensor([3.9449, 1.8014]) \t 0\n",
      "160.) tensor([5.0871, 2.5479]) \t 0\n",
      "161.) tensor([3.1598, 1.2883]) \t 0\n",
      "162.) tensor([4.7470, 0.7519]) \t 0\n",
      "163.) tensor([1.5045, 0.2064]) \t 0\n",
      "164.) tensor([-1.5193, -4.0869]) \t 0\n",
      "165.) tensor([-1.5201, -4.0884]) \t 0\n",
      "166.) tensor([5.0459, 2.5210]) \t 0\n",
      "167.) tensor([ -1.8771, -17.3022]) \t 0\n",
      "168.) tensor([2.4117, 0.7993]) \t 0\n",
      "169.) tensor([ -4.7510, -10.4296]) \t 0\n",
      "170.) tensor([ 2.7006, -2.6765]) \t 0\n",
      "171.) tensor([2.1147, 0.6052]) \t 0\n",
      "172.) tensor([1.6584, 0.3070]) \t 0\n",
      "173.) tensor([-1.5014, -4.8287]) \t 0\n",
      "174.) tensor([ 1.9278, -2.9173]) \t 0\n",
      "175.) tensor([7.9254, 4.1245]) \t 0\n",
      "176.) tensor([ -5.0812, -12.6053]) \t 0\n",
      "177.) tensor([-1.8791, -4.8194]) \t 0\n",
      "178.) tensor([ 1.1281, -1.4365]) \t 0\n",
      "179.) tensor([3.6903, 1.6350]) \t 0\n",
      "180.) tensor([-1.8640, -4.7686]) \t 0\n",
      "181.) tensor([2.4480, 0.8231]) \t 1\n",
      "182.) tensor([ 0.5711, -3.2342]) \t 0\n",
      "183.) tensor([5.0536, 2.5260]) \t 0\n",
      "184.) tensor([3.0773, 1.2344]) \t 0\n",
      "185.) tensor([2.3665, 0.7698]) \t 1\n",
      "186.) tensor([3.7311, 1.6617]) \t 0\n",
      "187.) tensor([1.6548, 0.3047]) \t 0\n",
      "188.) tensor([1.7258, 0.3511]) \t 0\n",
      "189.) tensor([5.5971, 2.8812]) \t 0\n",
      "190.) tensor([4.4971, 2.1623]) \t 0\n",
      "191.) tensor([5.9794, 3.1311]) \t 1\n",
      "192.) tensor([4.9001, 2.4257]) \t 0\n",
      "193.) tensor([2.4731, 0.8395]) \t 1\n",
      "194.) tensor([4.1422, 1.9303]) \t 0\n",
      "195.) tensor([6.2721, 3.3224]) \t 0\n",
      "196.) tensor([3.3351, 1.4029]) \t 0\n",
      "197.) tensor([3.3413, 1.4069]) \t 0\n",
      "198.) tensor([-1.2371, -3.7430]) \t 1\n",
      "199.) tensor([3.7863, 1.6977]) \t 0\n",
      "200.) tensor([4.3816, 2.0868]) \t 0\n",
      "201.) tensor([2.6460, 0.9525]) \t 1\n",
      "202.) tensor([ 1.4857, -0.0600]) \t 0\n",
      "203.) tensor([3.6538, 1.6112]) \t 0\n",
      "204.) tensor([2.3986, 0.7908]) \t 0\n",
      "205.) tensor([ 1.5078, -1.6154]) \t 0\n",
      "206.) tensor([-0.3543, -4.1588]) \t 0\n",
      "207.) tensor([1.9099, 0.4714]) \t 0\n",
      "208.) tensor([4.7187, 2.3071]) \t 0\n",
      "209.) tensor([5.9692, 3.1244]) \t 0\n",
      "210.) tensor([-0.2413, -2.2753]) \t 0\n",
      "211.) tensor([4.1678, 1.9471]) \t 0\n",
      "212.) tensor([5.4223, 2.7670]) \t 1\n",
      "213.) tensor([ -4.1561, -11.4618]) \t 0\n",
      "214.) tensor([3.4880, 1.5028]) \t 0\n",
      "215.) tensor([1.6629, 0.3099]) \t 0\n",
      "216.) tensor([-1.2324, -3.7813]) \t 0\n",
      "217.) tensor([3.1189, 0.8666]) \t 0\n",
      "Correct 193\n"
     ]
    }
   ],
   "source": [
    "correct = 0\n",
    "with torch.no_grad():\n",
    "  for i,data in enumerate(X_test):\n",
    "    y_val = model.forward(data)\n",
    "\n",
    "    print(f'{i+1}.) {str(y_val)} \\t {y_test[i]}')\n",
    "\n",
    "    if y_val.argmax().item() == y_test[i]:\n",
    "      correct+=1\n",
    "print(f'Correct {correct}')\n"
   ]
  },
  {
   "cell_type": "markdown",
   "id": "6b7dcc68",
   "metadata": {},
   "source": [
    "# Summary"
   ]
  },
  {
   "cell_type": "markdown",
   "id": "f6186f30",
   "metadata": {},
   "source": [
    "Overall, 88% of employees indicated they are not likely to leave their jobs, while 12% are likely to quit.\n",
    "\n",
    "Specifically, Nurses were most likely to quit at 13%. Therapists were least likely at just 2%. Admin and Administrative roles fell in the middle at 6% and 1% likely to quit, respectively.\n",
    "\n",
    "Additionally, the data showed a correlation between job satisfaction and attrition - as satisfaction increased, intention to leave decreased. Those least satisfied had 15.8% and 13.5% attrition rates, while the most satisfied group had only 8.5% likely to quit.\n",
    "\n",
    "Finally, attrition intentions were similar between genders. Females were slightly higher at 12.7% compared to 11.3% for males. But the 1.4 percentage point difference suggests gender is not a major driver of turnover overall.\n",
    "\n",
    "In summary, while 12% are likely to quit, the majority are staying. Nurses have the highest attrition rates while Therapists have the lowest. Increased job satisfaction appears to improve retention. Gender differences in attrition are minor."
   ]
  },
  {
   "cell_type": "code",
   "execution_count": null,
   "id": "9f1ff0da",
   "metadata": {},
   "outputs": [],
   "source": []
  }
 ],
 "metadata": {
  "kernelspec": {
   "display_name": "Python 3",
   "language": "python",
   "name": "python3"
  },
  "language_info": {
   "codemirror_mode": {
    "name": "ipython",
    "version": 3
   },
   "file_extension": ".py",
   "mimetype": "text/x-python",
   "name": "python",
   "nbconvert_exporter": "python",
   "pygments_lexer": "ipython3",
   "version": "3.8.8"
  }
 },
 "nbformat": 4,
 "nbformat_minor": 5
}
